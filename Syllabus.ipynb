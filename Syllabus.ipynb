{
 "cells": [
  {
   "cell_type": "markdown",
   "metadata": {},
   "source": [
    "# Deep Learning and Modern Applications\n",
    "\n",
    "- Version: 2022-12-05\n",
    "- Term: Spring 2023\n",
    "- CRN: 38063 (IDS 576)\n",
    "- Number of Credits: 4\n",
    "- Instructor: [Dr. Theja Tulabandhula](https://theja.org)"
   ]
  },
  {
   "cell_type": "markdown",
   "metadata": {},
   "source": [
    "## 1. Objective\n",
    "\n",
    "The goal of this class is to cover a subset of advanced machine learning techniques, after students have seen the basics of data mining (such as in IDS 572) and machine learning (such as in IDS 575). \n",
    "\n",
    "\n",
    "Broadly, we will cover topics spanning deep learning and reinforcement learning. In particular, we will study popular deep learning architectures, their design choices and how they are trained. This will be motivated by business applications dealing with image, text and tabular data. Finally, we will look at online and reinforcement learning frameworks and their role in sequential decision making settings such as retail.\n",
    "\n",
    "A tentative list of topics is as follows:\n",
    "\n",
    " - Backpropagation and feed forward neural networks\n",
    " - Convolutional networks (CNNs)\n",
    " - Recurrent networks and Long short-term memory networks (LSTMs)\n",
    " - Attention mechanism and transformers (BERT, GPT-3)\n",
    " - Variational autoencoders (VAEs)\n",
    " - Generative adversarial networks (GANs)\n",
    " - Deep reinforcement learning and Deep Q-Network (DQN)\n",
    " - Deep learning design choices such as optimizers (Adam, RMSprop), nonlinearities, embeddings, attention, dropout, batch normalization etc."
   ]
  },
  {
   "cell_type": "markdown",
   "metadata": {},
   "source": [
    "## 3. Course Logistics\n",
    "\n",
    " - Meeting Times: Thursdays 3.30 PM to 6.00 PM\n",
    " - Location: DH 230\n",
    " - Staff: \n",
    "   - Instructor: [Dr. Theja Tulabandhula](https://theja.org)\n",
    "     - Office Hours: Thursdays 2.30 - 3.30 PM by email appointment at UH 2404/Zoom\n",
    "   - TA: Son The Nguyen\n",
    "     - Office Hours: TBD"
   ]
  },
  {
   "cell_type": "markdown",
   "metadata": {},
   "source": [
    "### 3.1. Dates\n",
    "\n",
    " - 01/12: lecture\n",
    " - 01/19: lecture\n",
    " - 01/25: assignment 1 due (ffn, python, keras, gradient descent)\n",
    " - 01/26: lecture\n",
    " - 02/02: lecture\n",
    " - 02/08: assignment 2 due (cnns, recommendations systems)\n",
    " - 02/09: lecture\n",
    " - 02/16: lecture\n",
    " - 02/22: assignment 3 due (language modeling, translation)\n",
    " - 02/23: lecture\n",
    " - 03/02: lecture\n",
    " - 03/08: project intermediate report+code due including project plan\n",
    " - 03/09: lecture slot for separate team meetings with teaching staff on projects\n",
    " - 03/16: lecture\n",
    " - 03/23: holiday (spring break)\n",
    " - 03/30: lecture slot for separate team meetings with teaching staff on projects\n",
    " - 04/06: lecture\n",
    " - 04/13: lecture slot for separate team meetings with teaching staff on projects\n",
    " - 04/19: project final report+code due \n",
    " - 04/20: lecture slot for student project presentations I\n",
    " - 04/27: lecture slot for student project presentations II"
   ]
  },
  {
   "cell_type": "markdown",
   "metadata": {},
   "source": [
    "### 3.2. Topics\n",
    "\n",
    "*See [this page](https://github.com/thejat/dl-notebooks/blob/master/LectureGoals.ipynb) for goals, module specific external links and [this folder](https://github.com/thejat/dl-notebooks/tree/master/slides) for the slides.*\n",
    "\n",
    " -  L01 : Motivating Applications, Machine Learning Pipeline  (Data, Models, Loss, Optimization), Backpropagation\n",
    "\n",
    " -  L02 : Feedforward Networks: Nonlinearities, Convolutional Neural Networks: Convolution, Pooling\n",
    "\n",
    " -  L03 : Jumpstarting Convolutional Neural Networks: Visualization, Transfer, Practical Models (VGG, ResNet)\n",
    "\n",
    " -  L04 : Text and Embeddings: Introduction to NLP, Word Embeddings, Word2Vec\n",
    "\n",
    " -  L05 : Recurrent Neural Networks and Transformers: Sequence to Sequence Learning, RNNs and LSTMs\n",
    "\n",
    " -  L06 : Advanced NLP: Attention, BERT and Transformers\n",
    "\n",
    " -  L07 : Unsupervised Deep Learning: Variational Autoencoders\n",
    "\n",
    " -  L08 : Unsupervised Deep Learning: Generative Adversarial Networks\n",
    "\n",
    " -  L09 : Online Learning: A/B Testing, Multi-armed Bandits, Contextual Bandits\n",
    "\n",
    " -  L10 : Reinforcement Learning I: Policies, State-Action Value Functions\n",
    "\n",
    " -  L11 : Reinforcement Learning II: Bellman Equations, Q Learning \n",
    "\n",
    " -  L12 : Deep Reinforcement Learning: Function Approximation, DQN for Atari Games, MCTS for AlphaGo "
   ]
  },
  {
   "cell_type": "markdown",
   "metadata": {},
   "source": [
    "## 4. Textbook and Materials\n",
    "\n",
    "### 4.1. Textbooks\n",
    "\n",
    " - [Deep Learning](https://www.deeplearningbook.org/) by Ian Goodfellow and Yoshua Bengio and Aaron Courville (2016).\n",
    " - [Dive into Deep Learning](https://d2l.ai/index.html) by Aston Zhang and Zachary C. Lipton and Mu Li and Alexander J. Smola (2020).\n",
    " - [Deep Learning for Coders with fastai and PyTorch: AI Applications Without a PhD](https://github.com/fastai/fastbook) by Jeremy Howard and Sylvain Gugger (2020). It is available on [Amazon]( https://www.amazon.com/Deep-Learning-Coders-fastai-PyTorch/dp/1492045527).\n",
    " - [Reinforcement Learning: An Introduction](http://incompleteideas.net/book/the-book-2nd.html) by Richard S. Sutton and Andrew G. Barto (2018)."
   ]
  },
  {
   "cell_type": "markdown",
   "metadata": {},
   "source": [
    "### 4.2. Software and Hardware\n",
    "\n",
    " - Any OS should be okay. If in doubt, run a virtual machine running linux (this will be discussed in the class). Some of the software we will work with are:\n",
    "   - [Python](https://www.python.org/): Refer to [this set of notes](https://ocw.mit.edu/courses/electrical-engineering-and-computer-science/6-189-a-gentle-introduction-to-programming-using-python-january-iap-2011/lectures/) or [this](http://stanfordpython.com/) to get started in Python.\n",
    "   - [Jupyter](https://jupyter.org/)\n",
    "   - Pytorch, tensorflow, keras, matplotlib, numpy, scipy, pandas, gym, random, ...\n",
    "   - ...\n",
    " - There will be varied computing resources needed for this course. We will rely on [Google Colab](https://colab.research.google.com/notebooks/), especially the GPU/TPU to train our deep learning models. "
   ]
  },
  {
   "cell_type": "markdown",
   "metadata": {},
   "source": [
    "## 5. Assignments and Project\n",
    "\n",
    "You should form groups of _strictly_ $2$ students for the assignment and project components. Reach out to your classmates early (and register your groups in this [spreadsheet](https://docs.google.com/spreadsheets/d/1BgWZV-0baOIrmR9_EmlKqmGG4xIXmxtrYVnkhIft0TA/edit?usp=sharing)).\n",
    "\n",
    "### 5.1. Assignment \n",
    "\n",
    "The assignment links are below:\n",
    "\n",
    " 1. [Assignment 1](https://github.com/thejat/dl-notebooks/blob/master/Assignment1.ipynb) \n",
    " 2. [Assignment 2](https://github.com/thejat/dl-notebooks/blob/master/Assignment2.ipynb) \n",
    " 3. [Assignment 3](https://github.com/thejat/dl-notebooks/blob/master/Assignment3.ipynb) \n",
    "\n",
    "These involve reimplementing recent deep-learning techniques and understanding their behavior on interesting datasets. Always mention any sources that were relied on in your assignment solutions. Submission deadline is BEFORE 11.59 PM on the concerned day. Late submissions will have an automatic 20% penalty per day without exceptions. Use [Blackboard](https://uic.blackboard.com/) for uploads."
   ]
  },
  {
   "cell_type": "markdown",
   "metadata": {},
   "source": [
    "### 5.2. Project\n",
    "\n",
    " - Students are expected to apply what they learn in the course and demonstrate their understanding by undertaking a suitable project. \n",
    " - A preliminary documentation along with the scripts/codes/commands used is to be submitted midway and a final version of the same is to be submitted right before the end of the term (see schedule above and Blackboard). \n",
    "- The scope, evaluation criteria used, examples and other details are available [here](https://github.com/thejat/dl-notebooks/blob/master/Project.ipynb). \n",
    "- Submission deadline is BEFORE 11.59 PM on the concerned day. Late submissions will have an automatic 20% penalty per day. Use [Blackboard](https://uic.blackboard.com/) for uploading your work as a _single zip_ file."
   ]
  },
  {
   "cell_type": "markdown",
   "metadata": {},
   "source": [
    "\n",
    "## 6. Grades\n",
    "\n",
    " - Grades will be based on:\n",
    "   - the assignments (3 times 10%), \n",
    "   - the project (see project details above) (10% for intermediate and 50% for final), and \n",
    "   - course participation (including but not limited to attendance, interaction with the instructor and the TA, and how well you support your group) (10%)."
   ]
  },
  {
   "cell_type": "markdown",
   "metadata": {},
   "source": [
    "\n",
    "\n",
    "\n",
    "## 7. Miscellaneous Information\n",
    "\n",
    " - This is a 4 credit graduate level course offered by the Information and Decision Sciences department at UIC.\n",
    " - See the [academic calendar](http://catalog.uic.edu/ucat/academic-calendar/) for the semester timeline.\n",
    " - Students who wish to observe their religious holidays (http://oae.uic.edu/religious-calendar/) should notify the instructor within one week of the first lecture date. \n",
    " - Contact the instructor at the earliest, if you require any accommodations for access to and/or participation in this course (see additional details below).\n",
    " - Refer to the academic integrity guidelines set by the university.\n",
    " \n",
    " #### Special Accommodations\n",
    "\n",
    "UIC has the [Disability Resource Center (DRC)](https://drc.uic.edu/) to help students needing special accommodations. If you have any condition, such as a physical or learning disability, which will make it difficult for you to carry out the work as outlined in the syllabus or which will require academic accommodations, you can go to the DRC for assistance, and should do so at the beginning of the semester or as early as possible. \n",
    "\n",
    "If a student needs remote learning accommodation due to a physical condition, such as if they are immuno-compromised and especially vulnerable to Covid, then the student can submit a formal request for remote learning accommodation through the DRC. This is needed in order to maintain fairness and consistency in our attendance policy."
   ]
  }
 ],
 "metadata": {
  "kernelspec": {
   "display_name": "Python 3 (ipykernel)",
   "language": "python",
   "name": "python3"
  },
  "language_info": {
   "codemirror_mode": {
    "name": "ipython",
    "version": 3
   },
   "file_extension": ".py",
   "mimetype": "text/x-python",
   "name": "python",
   "nbconvert_exporter": "python",
   "pygments_lexer": "ipython3",
   "version": "3.8.10"
  }
 },
 "nbformat": 4,
 "nbformat_minor": 4
}
